{
 "cells": [
  {
   "cell_type": "code",
   "execution_count": 51,
   "metadata": {},
   "outputs": [],
   "source": [
    "inputs = '''\n",
    "005410C99A9802DA00B43887138F72F4F652CC0159FE05E802B3A572DBBE5AA5F56F6B6A4600FCCAACEA9CE0E1002013A55389B064C0269813952F983595234002DA394615002A47E06C0125CF7B74FE00E6FC470D4C0129260B005E73FCDFC3A5B77BF2FB4E0009C27ECEF293824CC76902B3004F8017A999EC22770412BE2A1004E3DCDFA146D00020670B9C0129A8D79BB7E88926BA401BAD004892BBDEF20D253BE70C53CA5399AB648EBBAAF0BD402B95349201938264C7699C5A0592AF8001E3C09972A949AD4AE2CB3230AC37FC919801F2A7A402978002150E60BC6700043A23C618E20008644782F10C80262F005679A679BE733C3F3005BC01496F60865B39AF8A2478A04017DCBEAB32FA0055E6286D31430300AE7C7E79AE55324CA679F9002239992BC689A8D6FE084012AE73BDFE39EBF186738B33BD9FA91B14CB7785EC01CE4DCE1AE2DCFD7D23098A98411973E30052C012978F7DD089689ACD4A7A80CCEFEB9EC56880485951DB00400010D8A30CA1500021B0D625450700227A30A774B2600ACD56F981E580272AA3319ACC04C015C00AFA4616C63D4DFF289319A9DC401008650927B2232F70784AE0124D65A25FD3A34CC61A6449246986E300425AF873A00CD4401C8A90D60E8803D08A0DC673005E692B000DA85B268E4021D4E41C6802E49AB57D1ED1166AD5F47B4433005F401496867C2B3E7112C0050C20043A17C208B240087425871180C01985D07A22980273247801988803B08A2DC191006A2141289640133E80212C3D2C3F377B09900A53E00900021109623425100723DC6884D3B7CFE1D2C6036D180D053002880BC530025C00F700308096110021C00C001E44C00F001955805A62013D0400B400ED500307400949C00F92972B6BC3F47A96D21C5730047003770004323E44F8B80008441C8F51366F38F240\n",
    "'''.strip()\n",
    "maps = {\n",
    "    \"0\": \"0000\",\n",
    "    \"1\": \"0001\",\n",
    "    \"2\": \"0010\",\n",
    "    \"3\": \"0011\",\n",
    "    \"4\": \"0100\",\n",
    "    \"5\": \"0101\",\n",
    "    \"6\": \"0110\",\n",
    "    \"7\": \"0111\",\n",
    "    \"8\": \"1000\",\n",
    "    \"9\": \"1001\",\n",
    "    \"A\": \"1010\",\n",
    "    \"B\": \"1011\",\n",
    "    \"C\": \"1100\",\n",
    "    \"D\": \"1101\",\n",
    "    \"E\": \"1110\",\n",
    "    \"F\": \"1111\",\n",
    "}"
   ]
  },
  {
   "cell_type": "code",
   "execution_count": 52,
   "metadata": {},
   "outputs": [
    {
     "name": "stdout",
     "output_type": "stream",
     "text": [
      "5408\n"
     ]
    }
   ],
   "source": [
    "import io\n",
    "t = io.StringIO(newline=\"\")\n",
    "for x in inputs:\n",
    "    t.write(maps[x])\n",
    "total_length = t.tell()\n",
    "t.seek(0)\n",
    "print(total_length)"
   ]
  },
  {
   "cell_type": "code",
   "execution_count": 53,
   "metadata": {},
   "outputs": [],
   "source": [
    "versions = 0\n",
    "def decode_literal_value(t):\n",
    "    start = t.tell()\n",
    "    num = \"\"\n",
    "    while t.read(1) != \"0\":\n",
    "        num += t.read(4)\n",
    "    num += t.read(4)\n",
    "    # print(\"num:\", int(num, 2))\n",
    "    return int(num, 2), t.tell() - start\n",
    "\n",
    "def decode_operator(t):\n",
    "    start = t.tell()\n",
    "    op = t.read(1)\n",
    "    nums = []\n",
    "    if op == \"0\":\n",
    "        expect_length = int(t.read(15), 2)\n",
    "        total_length = 0\n",
    "        while total_length < expect_length:\n",
    "            num, l = decode_packet(t)\n",
    "            total_length += l\n",
    "            nums.append(num)\n",
    "    elif op == \"1\":\n",
    "        packets = int(t.read(11), 2)\n",
    "        for _ in range(packets):\n",
    "            num, _ = decode_packet(t)\n",
    "            nums.append(num)\n",
    "\n",
    "    return nums, t.tell() - start\n",
    "\n",
    "def decode_packet(t):\n",
    "    global versions\n",
    "    start = t.tell()\n",
    "    version = int(t.read(3), 2)\n",
    "    # print(\"version:\", version)\n",
    "    versions += version\n",
    "    type_id = int(t.read(3), 2)\n",
    "    # print(\"type_id:\", type_id)\n",
    "    if type_id == 4:\n",
    "        num, _ = decode_literal_value(t)\n",
    "    else:\n",
    "        nums, _ = decode_operator(t)\n",
    "        if type_id == 0:\n",
    "            num = sum(nums)\n",
    "        elif type_id == 1:\n",
    "            num = 1\n",
    "            for n in nums:\n",
    "                num *= n\n",
    "        elif type_id == 2:\n",
    "            num = min(nums)\n",
    "        elif type_id == 3:\n",
    "            num = max(nums)\n",
    "        elif type_id == 5:\n",
    "            num = 1 if nums[0] > nums[1] else 0\n",
    "        elif type_id == 6:\n",
    "            num = 1 if nums[0] < nums[1] else 0\n",
    "        elif type_id == 7:\n",
    "            num = 1 if nums[0] == nums[1] else 0\n",
    "    \n",
    "    return num, t.tell() - start"
   ]
  },
  {
   "cell_type": "code",
   "execution_count": 54,
   "metadata": {},
   "outputs": [],
   "source": [
    "num, _ = decode_packet(t)\n"
   ]
  },
  {
   "cell_type": "code",
   "execution_count": 55,
   "metadata": {},
   "outputs": [
    {
     "name": "stdout",
     "output_type": "stream",
     "text": [
      "puzzle 1: 923\n"
     ]
    }
   ],
   "source": [
    "print(\"puzzle 1:\", versions)"
   ]
  },
  {
   "cell_type": "code",
   "execution_count": 56,
   "metadata": {},
   "outputs": [
    {
     "name": "stdout",
     "output_type": "stream",
     "text": [
      "puzzle 2: 258888628940\n"
     ]
    }
   ],
   "source": [
    "print(\"puzzle 2:\", num)"
   ]
  }
 ],
 "metadata": {
  "interpreter": {
   "hash": "8f913d6c77d3aa8b2c7ec7c478c101842e27b424309039d7163f3c1ab598ae46"
  },
  "kernelspec": {
   "display_name": "Python 3.10.0 64-bit ('adventofcode2021': pyenv)",
   "language": "python",
   "name": "python3"
  },
  "language_info": {
   "codemirror_mode": {
    "name": "ipython",
    "version": 3
   },
   "file_extension": ".py",
   "mimetype": "text/x-python",
   "name": "python",
   "nbconvert_exporter": "python",
   "pygments_lexer": "ipython3",
   "version": "3.10.0"
  },
  "orig_nbformat": 4
 },
 "nbformat": 4,
 "nbformat_minor": 2
}
