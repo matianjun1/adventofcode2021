{
 "cells": [
  {
   "cell_type": "code",
   "execution_count": 64,
   "metadata": {},
   "outputs": [],
   "source": [
    "x = (235, 259)\n",
    "y = (-118, -62)\n",
    "\n",
    "# x = (20, 30)\n",
    "# y = (-10, -5)"
   ]
  },
  {
   "cell_type": "code",
   "execution_count": 65,
   "metadata": {},
   "outputs": [
    {
     "name": "stdout",
     "output_type": "stream",
     "text": [
      "puzzle 1: 6903\n"
     ]
    }
   ],
   "source": [
    "real_max_y = 0\n",
    "real_max_i = 0\n",
    "for i in range(300):\n",
    "    pos_y = 0\n",
    "    max_y = 0\n",
    "    tmp = i\n",
    "    while pos_y >= y[0]:\n",
    "        if pos_y <= y[1]:\n",
    "            # print(i, max_y)\n",
    "            real_max_y = max_y\n",
    "            real_max_i = i\n",
    "            break\n",
    "        \n",
    "        pos_y += tmp\n",
    "        if pos_y > max_y:\n",
    "            max_y = pos_y\n",
    "        tmp -= 1\n",
    "\n",
    "print(\"puzzle 1:\", real_max_y)\n"
   ]
  },
  {
   "cell_type": "code",
   "execution_count": 66,
   "metadata": {},
   "outputs": [
    {
     "name": "stdout",
     "output_type": "stream",
     "text": [
      "real_max_i: 117\n"
     ]
    }
   ],
   "source": [
    "print(\"real_max_i:\", real_max_i)"
   ]
  },
  {
   "cell_type": "code",
   "execution_count": 67,
   "metadata": {},
   "outputs": [
    {
     "name": "stdout",
     "output_type": "stream",
     "text": [
      "22\n"
     ]
    }
   ],
   "source": [
    "def aaa():\n",
    "    for i in range(x[0]):\n",
    "        total = 0\n",
    "        for _i in range(i+1):\n",
    "            total += _i\n",
    "            if total >= x[0]:\n",
    "                return i\n",
    "\n",
    "real_min_x = aaa()\n",
    "print(real_min_x)"
   ]
  },
  {
   "cell_type": "code",
   "execution_count": 68,
   "metadata": {},
   "outputs": [
    {
     "name": "stdout",
     "output_type": "stream",
     "text": [
      "puzzle 2: 2351\n"
     ]
    }
   ],
   "source": [
    "def hit(_x, _y):\n",
    "    pos_x = 0\n",
    "    pos_y = 0\n",
    "    while pos_x <= x[1] and pos_y >= y[0]:\n",
    "        if pos_x >= x[0] and pos_y <= y[1]:\n",
    "            return True\n",
    "        \n",
    "        pos_x += _x\n",
    "        pos_y += _y\n",
    "        if _x > 0:\n",
    "            _x -= 1\n",
    "        _y -= 1\n",
    "    \n",
    "    return False\n",
    "\n",
    "\n",
    "total = 0\n",
    "for _x in range(real_min_x, x[1]+1):\n",
    "    for _y in range(y[0], real_max_i+1):\n",
    "        if hit(_x, _y):\n",
    "            total += 1\n",
    "\n",
    "print(\"puzzle 2:\", total)"
   ]
  },
  {
   "cell_type": "code",
   "execution_count": null,
   "metadata": {},
   "outputs": [],
   "source": []
  }
 ],
 "metadata": {
  "interpreter": {
   "hash": "8f913d6c77d3aa8b2c7ec7c478c101842e27b424309039d7163f3c1ab598ae46"
  },
  "kernelspec": {
   "display_name": "Python 3.10.0 64-bit ('adventofcode2021': pyenv)",
   "language": "python",
   "name": "python3"
  },
  "language_info": {
   "codemirror_mode": {
    "name": "ipython",
    "version": 3
   },
   "file_extension": ".py",
   "mimetype": "text/x-python",
   "name": "python",
   "nbconvert_exporter": "python",
   "pygments_lexer": "ipython3",
   "version": "3.10.0"
  },
  "orig_nbformat": 4
 },
 "nbformat": 4,
 "nbformat_minor": 2
}
