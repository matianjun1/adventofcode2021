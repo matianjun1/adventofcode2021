{
 "cells": [
  {
   "cell_type": "code",
   "execution_count": 40,
   "metadata": {},
   "outputs": [
    {
     "data": {
      "text/plain": [
       "18"
      ]
     },
     "execution_count": 40,
     "metadata": {},
     "output_type": "execute_result"
    }
   ],
   "source": [
    "#############\n",
    "#...........#\n",
    "###D#C#D#B###\n",
    "  #B#A#A#C#\n",
    "  #########\n",
    "60+500+5000\n",
    "#############\n",
    "#...B.C.....#\n",
    "###D#C#.#.###\n",
    "  #B#A#A#D#\n",
    "  #########\n",
    "6+300+400\n",
    "#############\n",
    "#...B......A#\n",
    "###D#.#C#.###\n",
    "  #B#A#C#D#\n",
    "  #########\n",
    "7+30\n",
    "#############\n",
    "#.........AA#\n",
    "###D#.#C#.###\n",
    "  #B#B#C#D#\n",
    "  #########\n",
    "8000+50\n",
    "#############\n",
    "#.........AA#\n",
    "###.#B#C#D###\n",
    "  #.#B#C#D#\n",
    "  #########\n",
    "9+9\n",
    "#############\n",
    "#...........#\n",
    "###A#B#C#D###\n",
    "  #A#B#C#D#\n",
    "  #########\n"
   ]
  },
  {
   "cell_type": "code",
   "execution_count": 41,
   "metadata": {},
   "outputs": [
    {
     "name": "stdout",
     "output_type": "stream",
     "text": [
      "puzzle 1: 14371\n"
     ]
    }
   ],
   "source": [
    "print(\"puzzle 1:\", 60+500+5000+6+300+400+7+30+8000+50+9+9)"
   ]
  },
  {
   "cell_type": "code",
   "execution_count": 42,
   "metadata": {},
   "outputs": [],
   "source": [
    "#############\n",
    "#...........#\n",
    "###D#C#D#B###\n",
    "  #D#C#B#A#\n",
    "  #D#B#A#C#\n",
    "  #B#A#A#C#\n",
    "  #########\n"
   ]
  },
  {
   "cell_type": "code",
   "execution_count": 43,
   "metadata": {},
   "outputs": [
    {
     "data": {
      "text/plain": [
       "40119"
      ]
     },
     "execution_count": 43,
     "metadata": {},
     "output_type": "execute_result"
    }
   ],
   "source": [
    "base = 1000 * (10 * 3 + 7)\n",
    "base += 100 * (3 * 4 + 16)\n",
    "base += 10 * (28)\n",
    "base += 10 + 10 + 10 + 9\n",
    "base"
   ]
  },
  {
   "cell_type": "code",
   "execution_count": 44,
   "metadata": {},
   "outputs": [
    {
     "name": "stdout",
     "output_type": "stream",
     "text": [
      "puzzle 2: 40941\n"
     ]
    }
   ],
   "source": [
    "base += 20 * 4 + 2 + 200 * 3\n",
    "#############\n",
    "#BA.......CC#\n",
    "###D#C#D#.###\n",
    "  #D#C#B#.#\n",
    "  #D#B#A#.#\n",
    "  #B#A#A#.#\n",
    "  #########\n",
    "\n",
    "#############\n",
    "#BA.......CC#\n",
    "###.#C#.#D###\n",
    "  #.#C#B#D#\n",
    "  #.#B#A#D#\n",
    "  #B#A#A#D#\n",
    "  #########\n",
    "base += 20 * 3\n",
    "#############\n",
    "#B......B.CC#\n",
    "###.#C#.#D###\n",
    "  #.#C#B#D#\n",
    "  #.#B#A#D#\n",
    "  #A#A#A#D#\n",
    "  #########\n",
    "base += 20 * 3\n",
    "#############\n",
    "#BB.....B.CC#\n",
    "###.#.#.#D###\n",
    "  #A#.#.#D#\n",
    "  #A#B#C#D#\n",
    "  #A#A#C#D#\n",
    "  #########\n",
    "base += 20 * 1\n",
    "#############\n",
    "#...........#\n",
    "###A#B#C#D###\n",
    "  #A#B#C#D#\n",
    "  #A#B#C#D#\n",
    "  #A#B#C#D#\n",
    "  #########\n",
    "print(\"puzzle 2:\", base)"
   ]
  }
 ],
 "metadata": {
  "interpreter": {
   "hash": "8f913d6c77d3aa8b2c7ec7c478c101842e27b424309039d7163f3c1ab598ae46"
  },
  "kernelspec": {
   "display_name": "Python 3.10.0 64-bit ('adventofcode2021': pyenv)",
   "language": "python",
   "name": "python3"
  },
  "language_info": {
   "codemirror_mode": {
    "name": "ipython",
    "version": 3
   },
   "file_extension": ".py",
   "mimetype": "text/x-python",
   "name": "python",
   "nbconvert_exporter": "python",
   "pygments_lexer": "ipython3",
   "version": "3.10.0"
  },
  "orig_nbformat": 4
 },
 "nbformat": 4,
 "nbformat_minor": 2
}
