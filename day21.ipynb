{
 "cells": [
  {
   "cell_type": "code",
   "execution_count": 62,
   "metadata": {},
   "outputs": [],
   "source": [
    "p1, p2 = 9, 4\n",
    "# p1, p2 = 4, 8\n",
    "s1, s2 = 0, 0"
   ]
  },
  {
   "cell_type": "code",
   "execution_count": 63,
   "metadata": {},
   "outputs": [],
   "source": [
    "dice = 0\n",
    "round = \"p1\"\n",
    "while s1 < 1000 and s2 < 1000:\n",
    "    moves = (3 * dice + 2) * 3\n",
    "    if round == \"p1\":\n",
    "        p1 = (p1 + moves) % 10\n",
    "        s1 += (p1 if p1 != 0 else 10)\n",
    "        round = \"p2\"\n",
    "    else:\n",
    "        p2 = (p2 + moves) % 10\n",
    "        s2 += (p2 if p2 != 0 else 10)\n",
    "        round = \"p1\"\n",
    "    dice += 1"
   ]
  },
  {
   "cell_type": "code",
   "execution_count": 64,
   "metadata": {},
   "outputs": [
    {
     "name": "stdout",
     "output_type": "stream",
     "text": [
      "puzzle 1: 998088\n"
     ]
    }
   ],
   "source": [
    "print(\"puzzle 1:\", dice * 3 * (s2 if s1 > s2 else s1))"
   ]
  },
  {
   "cell_type": "code",
   "execution_count": 65,
   "metadata": {},
   "outputs": [
    {
     "name": "stdout",
     "output_type": "stream",
     "text": [
      "[3, 4, 5, 4, 5, 6, 5, 6, 7, 4, 5, 6, 5, 6, 7, 6, 7, 8, 5, 6, 7, 6, 7, 8, 7, 8, 9]\n"
     ]
    }
   ],
   "source": [
    "adds=[ z+y+x for x in range(1,4) for y in range(1,4) for z in range(1,4)]\n",
    "print(adds)\n",
    "p1, p2 = 9, 4\n",
    "# p1, p2 = 4, 8"
   ]
  },
  {
   "cell_type": "code",
   "execution_count": 66,
   "metadata": {},
   "outputs": [],
   "source": [
    "from functools import lru_cache\n",
    "\n",
    "@lru_cache(maxsize=None)\n",
    "def tree(cur, score, level):\n",
    "    r = [0] * 11\n",
    "    t = [0] * 11\n",
    "    if level != 0:\n",
    "        cur = (cur - 1) % 10 + 1\n",
    "        score += cur\n",
    "        t[level] = 1\n",
    "        if score >= 21:\n",
    "            r[level] = 1\n",
    "            return r, t\n",
    "        \n",
    "    for x in adds:\n",
    "        _r, _t = tree(cur+x, score, level + 1)\n",
    "        for k, (v, w) in enumerate(zip(_r, _t)):\n",
    "            r[k] += v\n",
    "            t[k] += w\n",
    "    \n",
    "    return r, t\n",
    "\n",
    "p1_r, p1_t = tree(p1, 0, 0)\n",
    "p2_r, p2_t = tree(p2, 0, 0)\n"
   ]
  },
  {
   "cell_type": "code",
   "execution_count": 67,
   "metadata": {},
   "outputs": [],
   "source": [
    "p1_wins = 0\n",
    "for k, v in enumerate(p1_r):\n",
    "    if v > 0:\n",
    "        p1_wins += v * (p2_t[k-1] - p2_r[k-1])\n",
    "\n",
    "# print(p1_wins)"
   ]
  },
  {
   "cell_type": "code",
   "execution_count": 68,
   "metadata": {},
   "outputs": [],
   "source": [
    "p2_wins = 0\n",
    "for k, v in enumerate(p2_r):\n",
    "    if v > 0:\n",
    "        p2_wins += v * (p1_t[k] - p1_r[k])\n",
    "\n",
    "# print(p2_wins)"
   ]
  },
  {
   "cell_type": "code",
   "execution_count": 69,
   "metadata": {},
   "outputs": [
    {
     "name": "stdout",
     "output_type": "stream",
     "text": [
      "puzzle 2: 306621346123766\n"
     ]
    }
   ],
   "source": [
    "print(\"puzzle 2:\", max(p1_wins, p2_wins))"
   ]
  }
 ],
 "metadata": {
  "interpreter": {
   "hash": "8f913d6c77d3aa8b2c7ec7c478c101842e27b424309039d7163f3c1ab598ae46"
  },
  "kernelspec": {
   "display_name": "Python 3.10.0 64-bit ('adventofcode2021': pyenv)",
   "language": "python",
   "name": "python3"
  },
  "language_info": {
   "codemirror_mode": {
    "name": "ipython",
    "version": 3
   },
   "file_extension": ".py",
   "mimetype": "text/x-python",
   "name": "python",
   "nbconvert_exporter": "python",
   "pygments_lexer": "ipython3",
   "version": "3.10.0"
  },
  "orig_nbformat": 4
 },
 "nbformat": 4,
 "nbformat_minor": 2
}
