{
 "cells": [
  {
   "cell_type": "code",
   "execution_count": 22,
   "metadata": {},
   "outputs": [],
   "source": [
    "p1, p2 = 9, 4\n",
    "# p1, p2 = 4, 8\n",
    "s1, s2 = 0, 0"
   ]
  },
  {
   "cell_type": "code",
   "execution_count": 23,
   "metadata": {},
   "outputs": [],
   "source": [
    "dice = 0\n",
    "round = \"p1\"\n",
    "while s1 < 1000 and s2 < 1000:\n",
    "    moves = (3 * dice + 2) * 3\n",
    "    if round == \"p1\":\n",
    "        p1 = (p1 + moves) % 10\n",
    "        s1 += (p1 if p1 != 0 else 10)\n",
    "        round = \"p2\"\n",
    "    else:\n",
    "        p2 = (p2 + moves) % 10\n",
    "        s2 += (p2 if p2 != 0 else 10)\n",
    "        round = \"p1\"\n",
    "    dice += 1"
   ]
  },
  {
   "cell_type": "code",
   "execution_count": 24,
   "metadata": {},
   "outputs": [
    {
     "name": "stdout",
     "output_type": "stream",
     "text": [
      "puzzle 1: 998088\n"
     ]
    }
   ],
   "source": [
    "print(\"puzzle 1:\", dice * 3 * (s2 if s1 > s2 else s1))"
   ]
  },
  {
   "cell_type": "code",
   "execution_count": null,
   "metadata": {},
   "outputs": [],
   "source": []
  }
 ],
 "metadata": {
  "interpreter": {
   "hash": "8f913d6c77d3aa8b2c7ec7c478c101842e27b424309039d7163f3c1ab598ae46"
  },
  "kernelspec": {
   "display_name": "Python 3.10.0 64-bit ('adventofcode2021': pyenv)",
   "language": "python",
   "name": "python3"
  },
  "language_info": {
   "codemirror_mode": {
    "name": "ipython",
    "version": 3
   },
   "file_extension": ".py",
   "mimetype": "text/x-python",
   "name": "python",
   "nbconvert_exporter": "python",
   "pygments_lexer": "ipython3",
   "version": "3.10.0"
  },
  "orig_nbformat": 4
 },
 "nbformat": 4,
 "nbformat_minor": 2
}
