{
 "cells": [
  {
   "cell_type": "code",
   "execution_count": 35,
   "metadata": {},
   "outputs": [],
   "source": [
    "inputs = '''\n",
    "start-YY\n",
    "av-rz\n",
    "rz-VH\n",
    "fh-av\n",
    "end-fh\n",
    "sk-gp\n",
    "ae-av\n",
    "YY-gp\n",
    "end-VH\n",
    "CF-qz\n",
    "qz-end\n",
    "qz-VG\n",
    "start-gp\n",
    "VG-sk\n",
    "rz-YY\n",
    "VH-sk\n",
    "rz-gp\n",
    "VH-av\n",
    "VH-fh\n",
    "sk-rz\n",
    "YY-sk\n",
    "av-gp\n",
    "rz-qz\n",
    "VG-start\n",
    "sk-fh\n",
    "VG-av\n",
    "'''.strip().split('\\n')"
   ]
  },
  {
   "cell_type": "code",
   "execution_count": 36,
   "metadata": {},
   "outputs": [
    {
     "name": "stdout",
     "output_type": "stream",
     "text": [
      "{'start': ['YY', 'gp', 'VG'], 'YY': ['start', 'gp', 'rz', 'sk'], 'av': ['rz', 'fh', 'ae', 'VH', 'gp', 'VG'], 'rz': ['av', 'VH', 'YY', 'gp', 'sk', 'qz'], 'VH': ['rz', 'end', 'sk', 'av', 'fh'], 'fh': ['av', 'end', 'VH', 'sk'], 'end': ['fh', 'VH', 'qz'], 'sk': ['gp', 'VG', 'VH', 'rz', 'YY', 'fh'], 'gp': ['sk', 'YY', 'start', 'rz', 'av'], 'ae': ['av'], 'CF': ['qz'], 'qz': ['CF', 'end', 'VG', 'rz'], 'VG': ['qz', 'sk', 'start', 'av']}\n",
      "{'start', 'ae', 'fh', 'rz', 'sk', 'av', 'gp', 'qz', 'end'}\n"
     ]
    }
   ],
   "source": [
    "maps = {}\n",
    "smalls = set()\n",
    "for x in inputs:\n",
    "    a, b = x.split('-')\n",
    "    maps.setdefault(a, []).append(b)\n",
    "    maps.setdefault(b, []).append(a)\n",
    "    if a.islower():\n",
    "        smalls.add(a)\n",
    "    if b.islower():\n",
    "        smalls.add(b)\n",
    "\n",
    "print(maps)\n",
    "print(smalls)"
   ]
  },
  {
   "cell_type": "code",
   "execution_count": 37,
   "metadata": {},
   "outputs": [
    {
     "name": "stdout",
     "output_type": "stream",
     "text": [
      "puzzle 1: 4707\n"
     ]
    }
   ],
   "source": [
    "def find_path(s):\n",
    "    if s.islower():\n",
    "        if s not in smalls:\n",
    "            return 0\n",
    "        smalls.remove(s)\n",
    "\n",
    "    if s == 'end':\n",
    "        smalls.add(s)\n",
    "        return 1\n",
    "\n",
    "    total = 0\n",
    "\n",
    "    for x in maps[s]:\n",
    "        total += find_path(x)\n",
    "\n",
    "    if s.islower():\n",
    "        smalls.add(s)\n",
    "    \n",
    "    return total\n",
    "\n",
    "p1 = find_path('start')\n",
    "print(\"puzzle 1:\", p1)"
   ]
  },
  {
   "cell_type": "code",
   "execution_count": 38,
   "metadata": {},
   "outputs": [
    {
     "name": "stdout",
     "output_type": "stream",
     "text": [
      "{'start': ['YY', 'gp', 'VG'], 'YY': ['start', 'gp', 'rz', 'sk'], 'av': ['rz', 'fh', 'ae', 'VH', 'gp', 'VG'], 'rz': ['av', 'VH', 'YY', 'gp', 'sk', 'qz'], 'VH': ['rz', 'end', 'sk', 'av', 'fh'], 'fh': ['av', 'end', 'VH', 'sk'], 'end': ['fh', 'VH', 'qz'], 'sk': ['gp', 'VG', 'VH', 'rz', 'YY', 'fh'], 'gp': ['sk', 'YY', 'start', 'rz', 'av'], 'ae': ['av'], 'CF': ['qz'], 'qz': ['CF', 'end', 'VG', 'rz'], 'VG': ['qz', 'sk', 'start', 'av']}\n",
      "{'start': 1, 'av': 1, 'rz': 1, 'fh': 1, 'end': 1, 'sk': 1, 'gp': 1, 'ae': 1, 'qz': 1}\n"
     ]
    }
   ],
   "source": [
    "maps = {}\n",
    "smalls = {}\n",
    "for x in inputs:\n",
    "    a, b = x.split('-')\n",
    "    maps.setdefault(a, []).append(b)\n",
    "    maps.setdefault(b, []).append(a)\n",
    "    if a.islower():\n",
    "        smalls[a] = 1\n",
    "    if b.islower():\n",
    "        smalls[b] = 1\n",
    "\n",
    "print(maps)\n",
    "print(smalls)"
   ]
  },
  {
   "cell_type": "code",
   "execution_count": 39,
   "metadata": {},
   "outputs": [],
   "source": [
    "def find_path(s, key):\n",
    "    if s.islower():\n",
    "        if smalls[s] == 0:\n",
    "            return 0\n",
    "        smalls[s] -= 1\n",
    "\n",
    "    if s == 'end':\n",
    "        smalls[s] = 1\n",
    "        if smalls[key] != 0:\n",
    "            return 0\n",
    "        return 1\n",
    "\n",
    "    total = 0\n",
    "\n",
    "    for x in maps[s]:\n",
    "        total += find_path(x, key)\n",
    "\n",
    "    if s.islower():\n",
    "        smalls[s] += 1\n",
    "    \n",
    "    return total\n"
   ]
  },
  {
   "cell_type": "code",
   "execution_count": 40,
   "metadata": {},
   "outputs": [
    {
     "name": "stdout",
     "output_type": "stream",
     "text": [
      "puzzle 2: 130493\n"
     ]
    }
   ],
   "source": [
    "from copy import deepcopy\n",
    "_smalls = deepcopy(smalls)\n",
    "t = 0\n",
    "for key in _smalls.keys():\n",
    "    if key == \"start\" or key == \"end\":\n",
    "        continue\n",
    "    smalls[key] = 2\n",
    "    t += find_path('start', key)\n",
    "    smalls = deepcopy(_smalls)\n",
    "print(\"puzzle 2:\", p1 + t)"
   ]
  }
 ],
 "metadata": {
  "interpreter": {
   "hash": "8f913d6c77d3aa8b2c7ec7c478c101842e27b424309039d7163f3c1ab598ae46"
  },
  "kernelspec": {
   "display_name": "Python 3.10.0 64-bit ('adventofcode2021': pyenv)",
   "language": "python",
   "name": "python3"
  },
  "language_info": {
   "codemirror_mode": {
    "name": "ipython",
    "version": 3
   },
   "file_extension": ".py",
   "mimetype": "text/x-python",
   "name": "python",
   "nbconvert_exporter": "python",
   "pygments_lexer": "ipython3",
   "version": "3.10.0"
  },
  "orig_nbformat": 4
 },
 "nbformat": 4,
 "nbformat_minor": 2
}
