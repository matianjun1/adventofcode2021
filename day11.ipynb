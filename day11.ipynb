{
 "cells": [
  {
   "cell_type": "code",
   "execution_count": 12,
   "metadata": {},
   "outputs": [],
   "source": [
    "inputs = '''\n",
    "4871252763\n",
    "8533428173\n",
    "7182186813\n",
    "2128441541\n",
    "3722272272\n",
    "8751683443\n",
    "3135571153\n",
    "5816321572\n",
    "2651347271\n",
    "7788154252\n",
    "'''.strip().split('\\n')\n",
    "inputs = [[int(_x) for _x in x] for x in inputs]"
   ]
  },
  {
   "cell_type": "code",
   "execution_count": 13,
   "metadata": {},
   "outputs": [],
   "source": [
    "from copy import deepcopy\n",
    "inputs2 = deepcopy(inputs)"
   ]
  },
  {
   "cell_type": "code",
   "execution_count": 14,
   "metadata": {},
   "outputs": [],
   "source": [
    "total = 0\n",
    "def broadcast(x, y, plus):\n",
    "    global total\n",
    "    if x < 0 or y < 0 or x >= len(inputs) or y >= len(inputs[0]):\n",
    "        return\n",
    "    if inputs[x][y] == 0:\n",
    "        return\n",
    "\n",
    "    inputs[x][y] += plus\n",
    "    if inputs[x][y] > 9:\n",
    "        inputs[x][y] = 0\n",
    "        total += 1\n",
    "        broadcast(x, y-1, 1)\n",
    "        broadcast(x, y+1, 1)\n",
    "        broadcast(x-1, y, 1)\n",
    "        broadcast(x+1, y, 1)\n",
    "        broadcast(x-1, y-1, 1)\n",
    "        broadcast(x+1, y+1, 1)\n",
    "        broadcast(x-1, y+1, 1)\n",
    "        broadcast(x+1, y-1, 1)\n",
    "\n",
    "\n",
    "for _ in range(100):\n",
    "    for x in range(len(inputs)):\n",
    "        for y in range(len(inputs[0])):\n",
    "            inputs[x][y] += 1\n",
    "    \n",
    "\n",
    "    for x in range(len(inputs)):\n",
    "        for y in range(len(inputs[0])):\n",
    "            broadcast(x, y, 0)"
   ]
  },
  {
   "cell_type": "code",
   "execution_count": 15,
   "metadata": {},
   "outputs": [
    {
     "name": "stdout",
     "output_type": "stream",
     "text": [
      "puzzle 1: 1747\n"
     ]
    }
   ],
   "source": [
    "print(\"puzzle 1:\", total)"
   ]
  },
  {
   "cell_type": "code",
   "execution_count": 16,
   "metadata": {},
   "outputs": [
    {
     "name": "stdout",
     "output_type": "stream",
     "text": [
      "puzzle 2: 505\n"
     ]
    }
   ],
   "source": [
    "inputs = inputs2\n",
    "def broadcast(x, y, plus):\n",
    "    if x < 0 or y < 0 or x >= len(inputs) or y >= len(inputs[0]):\n",
    "        return\n",
    "    if inputs[x][y] == 0:\n",
    "        return\n",
    "\n",
    "    inputs[x][y] += plus\n",
    "    if inputs[x][y] > 9:\n",
    "        inputs[x][y] = 0\n",
    "        broadcast(x, y-1, 1)\n",
    "        broadcast(x, y+1, 1)\n",
    "        broadcast(x-1, y, 1)\n",
    "        broadcast(x+1, y, 1)\n",
    "        broadcast(x-1, y-1, 1)\n",
    "        broadcast(x+1, y+1, 1)\n",
    "        broadcast(x-1, y+1, 1)\n",
    "        broadcast(x+1, y-1, 1)\n",
    "\n",
    "total = 0\n",
    "while 1:\n",
    "    if sum([sum(x) for x in inputs]) == 0:\n",
    "        break\n",
    "    for x in range(len(inputs)):\n",
    "        for y in range(len(inputs[0])):\n",
    "            inputs[x][y] += 1\n",
    "    \n",
    "\n",
    "    for x in range(len(inputs)):\n",
    "        for y in range(len(inputs[0])):\n",
    "            broadcast(x, y, 0)\n",
    "    \n",
    "    total += 1\n",
    "\n",
    "print(\"puzzle 2:\", total)"
   ]
  }
 ],
 "metadata": {
  "interpreter": {
   "hash": "8f913d6c77d3aa8b2c7ec7c478c101842e27b424309039d7163f3c1ab598ae46"
  },
  "kernelspec": {
   "display_name": "Python 3.10.0 64-bit ('adventofcode2021': pyenv)",
   "language": "python",
   "name": "python3"
  },
  "language_info": {
   "codemirror_mode": {
    "name": "ipython",
    "version": 3
   },
   "file_extension": ".py",
   "mimetype": "text/x-python",
   "name": "python",
   "nbconvert_exporter": "python",
   "pygments_lexer": "ipython3",
   "version": "3.10.0"
  },
  "orig_nbformat": 4
 },
 "nbformat": 4,
 "nbformat_minor": 2
}
