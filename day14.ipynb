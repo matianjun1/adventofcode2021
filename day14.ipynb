{
 "cells": [
  {
   "cell_type": "code",
   "execution_count": 10,
   "metadata": {},
   "outputs": [],
   "source": [
    "key = \"KKOSPHCNOCHHHSPOBKVF\"\n",
    "inputs = '''\n",
    "NV -> S\n",
    "OK -> K\n",
    "SO -> N\n",
    "FN -> F\n",
    "NB -> K\n",
    "BV -> K\n",
    "PN -> V\n",
    "KC -> C\n",
    "HF -> N\n",
    "CK -> S\n",
    "VP -> H\n",
    "SK -> C\n",
    "NO -> F\n",
    "PB -> O\n",
    "PF -> P\n",
    "VC -> C\n",
    "OB -> S\n",
    "VF -> F\n",
    "BP -> P\n",
    "HO -> O\n",
    "FF -> S\n",
    "NF -> B\n",
    "KK -> C\n",
    "OC -> P\n",
    "OV -> B\n",
    "NK -> B\n",
    "KO -> C\n",
    "OH -> F\n",
    "CV -> F\n",
    "CH -> K\n",
    "SC -> O\n",
    "BN -> B\n",
    "HS -> O\n",
    "VK -> V\n",
    "PV -> S\n",
    "BO -> F\n",
    "OO -> S\n",
    "KB -> N\n",
    "NS -> S\n",
    "BF -> N\n",
    "SH -> F\n",
    "SB -> S\n",
    "PP -> F\n",
    "KN -> H\n",
    "BB -> C\n",
    "SS -> V\n",
    "HP -> O\n",
    "PK -> P\n",
    "HK -> O\n",
    "FH -> O\n",
    "BC -> N\n",
    "FK -> K\n",
    "HN -> P\n",
    "CC -> V\n",
    "FO -> F\n",
    "FP -> C\n",
    "VO -> N\n",
    "SF -> B\n",
    "HC -> O\n",
    "NN -> K\n",
    "FC -> C\n",
    "CS -> O\n",
    "FV -> P\n",
    "HV -> V\n",
    "PO -> H\n",
    "BH -> F\n",
    "OF -> P\n",
    "PC -> V\n",
    "CN -> O\n",
    "HB -> N\n",
    "CF -> P\n",
    "HH -> K\n",
    "VH -> H\n",
    "OP -> F\n",
    "BK -> S\n",
    "SP -> V\n",
    "BS -> V\n",
    "VB -> C\n",
    "NH -> H\n",
    "SN -> K\n",
    "KH -> F\n",
    "OS -> N\n",
    "NP -> P\n",
    "VN -> V\n",
    "KV -> F\n",
    "KP -> B\n",
    "VS -> F\n",
    "NC -> F\n",
    "ON -> S\n",
    "FB -> C\n",
    "SV -> O\n",
    "PS -> K\n",
    "KF -> H\n",
    "CP -> H\n",
    "FS -> V\n",
    "VV -> H\n",
    "CB -> P\n",
    "PH -> N\n",
    "CO -> N\n",
    "KS -> K\n",
    "'''.strip().split('\\n')"
   ]
  },
  {
   "cell_type": "code",
   "execution_count": 11,
   "metadata": {},
   "outputs": [],
   "source": [
    "maps = {}\n",
    "for line in inputs:\n",
    "    maps[line.split(' -> ')[0]] = line.split(' -> ')[1]"
   ]
  },
  {
   "cell_type": "code",
   "execution_count": 12,
   "metadata": {},
   "outputs": [],
   "source": [
    "items = {}\n",
    "elements = {}\n",
    "for i, x in enumerate(key):\n",
    "    elements[x] = elements.get(x, 0) + 1\n",
    "    if i < len(key) - 1:\n",
    "        items[key[i:i+2]] = items.get(key[i:i+2], 0) + 1"
   ]
  },
  {
   "cell_type": "code",
   "execution_count": 13,
   "metadata": {},
   "outputs": [
    {
     "name": "stdout",
     "output_type": "stream",
     "text": [
      "20\n",
      "{'KK': 1, 'KO': 1, 'OS': 1, 'SP': 2, 'PH': 1, 'HC': 1, 'CN': 1, 'NO': 1, 'OC': 1, 'CH': 1, 'HH': 2, 'HS': 1, 'PO': 1, 'OB': 1, 'BK': 1, 'KV': 1, 'VF': 1}\n",
      "{'K': 3, 'O': 3, 'S': 2, 'P': 2, 'H': 4, 'C': 2, 'N': 1, 'B': 1, 'V': 1, 'F': 1}\n"
     ]
    }
   ],
   "source": [
    "print(len(key))\n",
    "print(items)\n",
    "print(elements)"
   ]
  },
  {
   "cell_type": "code",
   "execution_count": 14,
   "metadata": {},
   "outputs": [
    {
     "name": "stdout",
     "output_type": "stream",
     "text": [
      "{'K': 1402, 'O': 1793, 'S': 2745, 'P': 1763, 'H': 1051, 'C': 2280, 'N': 1660, 'B': 1415, 'V': 1976, 'F': 3372}\n"
     ]
    }
   ],
   "source": [
    "for _ in range(10):\n",
    "    new_items = {}\n",
    "    for key, value in items.items():\n",
    "        if key in maps:\n",
    "            letter = maps[key]\n",
    "            elements[letter] = elements.get(letter, 0) + value\n",
    "            new_items[key[0]+letter] = new_items.get(key[0]+letter, 0) + value\n",
    "            new_items[letter+key[1]] = new_items.get(letter+key[1], 0) + value\n",
    "\n",
    "    items = new_items\n",
    "\n",
    "print(elements)"
   ]
  },
  {
   "cell_type": "code",
   "execution_count": 15,
   "metadata": {},
   "outputs": [
    {
     "name": "stdout",
     "output_type": "stream",
     "text": [
      "puzzle 1: 2321\n"
     ]
    }
   ],
   "source": [
    "print(\"puzzle 1:\", max(elements.values()) - min(elements.values()))"
   ]
  },
  {
   "cell_type": "code",
   "execution_count": 16,
   "metadata": {},
   "outputs": [
    {
     "name": "stdout",
     "output_type": "stream",
     "text": [
      "{'K': 1380441585291, 'O': 1819472394337, 'S': 2466935280641, 'P': 2478726311229, 'H': 1170003265011, 'C': 3146267878759, 'N': 1502471357189, 'B': 1293494995680, 'V': 2063082400890, 'F': 3569825458718}\n"
     ]
    }
   ],
   "source": [
    "for _ in range(40 - 10):\n",
    "    new_items = {}\n",
    "    for key, value in items.items():\n",
    "        if key in maps:\n",
    "            letter = maps[key]\n",
    "            elements[letter] = elements.get(letter, 0) + value\n",
    "            new_items[key[0]+letter] = new_items.get(key[0]+letter, 0) + value\n",
    "            new_items[letter+key[1]] = new_items.get(letter+key[1], 0) + value\n",
    "\n",
    "    items = new_items\n",
    "\n",
    "print(elements)"
   ]
  },
  {
   "cell_type": "code",
   "execution_count": 17,
   "metadata": {},
   "outputs": [
    {
     "name": "stdout",
     "output_type": "stream",
     "text": [
      "puzzle 2: 2399822193707\n"
     ]
    }
   ],
   "source": [
    "print(\"puzzle 2:\", max(elements.values()) - min(elements.values()))"
   ]
  },
  {
   "cell_type": "code",
   "execution_count": null,
   "metadata": {},
   "outputs": [],
   "source": []
  }
 ],
 "metadata": {
  "interpreter": {
   "hash": "8f913d6c77d3aa8b2c7ec7c478c101842e27b424309039d7163f3c1ab598ae46"
  },
  "kernelspec": {
   "display_name": "Python 3.10.0 64-bit ('adventofcode2021': pyenv)",
   "language": "python",
   "name": "python3"
  },
  "language_info": {
   "codemirror_mode": {
    "name": "ipython",
    "version": 3
   },
   "file_extension": ".py",
   "mimetype": "text/x-python",
   "name": "python",
   "nbconvert_exporter": "python",
   "pygments_lexer": "ipython3",
   "version": "3.10.0"
  },
  "orig_nbformat": 4
 },
 "nbformat": 4,
 "nbformat_minor": 2
}
